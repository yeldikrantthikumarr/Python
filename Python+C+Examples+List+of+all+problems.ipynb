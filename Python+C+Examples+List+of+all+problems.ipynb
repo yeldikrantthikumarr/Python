{
 "cells": [
  {
   "cell_type": "markdown",
   "metadata": {},
   "source": [
    "# Program for printing total digits in a given number"
   ]
  },
  {
   "cell_type": "code",
   "execution_count": null,
   "metadata": {
    "collapsed": true
   },
   "outputs": [],
   "source": [
    "t = 12344"
   ]
  },
  {
   "cell_type": "code",
   "execution_count": null,
   "metadata": {},
   "outputs": [],
   "source": [
    "length = 0\n",
    "while t >0:\n",
    "    t = t /10\n",
    "    t = round(t)\n",
    "    length+=1\n",
    "print(length)"
   ]
  },
  {
   "cell_type": "markdown",
   "metadata": {},
   "source": [
    "# Sum of digits in the given number"
   ]
  },
  {
   "cell_type": "markdown",
   "metadata": {},
   "source": [
    "# n = 123  # input is n = 123 & required out put is 6"
   ]
  },
  {
   "cell_type": "code",
   "execution_count": null,
   "metadata": {
    "collapsed": true
   },
   "outputs": [],
   "source": [
    "n = 123\n",
    "sum = 0"
   ]
  },
  {
   "cell_type": "code",
   "execution_count": null,
   "metadata": {},
   "outputs": [],
   "source": [
    "while n > 0:\n",
    "    r = n % 10\n",
    "    #n = round(n)\n",
    "    sum = sum + r\n",
    "    n = n /10\n",
    "print(sum)"
   ]
  },
  {
   "cell_type": "code",
   "execution_count": null,
   "metadata": {},
   "outputs": [],
   "source": [
    "n%10"
   ]
  },
  {
   "cell_type": "markdown",
   "metadata": {},
   "source": [
    "# Fizz Buzz Program"
   ]
  },
  {
   "cell_type": "code",
   "execution_count": null,
   "metadata": {},
   "outputs": [],
   "source": [
    "# Objective is to organize multiples of 3 being FIZZ and 5 being BUZZ and 3 & 5 is FIZZBUZZ\n",
    "def fizz_buzz(n):\n",
    "    for n in range(1,n+1):\n",
    "        if n % 3 == 0 and n % 5 == 0:\n",
    "            print('FizzBuzz')\n",
    "        elif n % 3 ==0:\n",
    "            print('Fizz')\n",
    "        elif n % 5 ==0:\n",
    "            print('Buzz')\n",
    "        else:\n",
    "            print(n)"
   ]
  },
  {
   "cell_type": "code",
   "execution_count": null,
   "metadata": {},
   "outputs": [],
   "source": [
    "fizz_buzz(16)"
   ]
  },
  {
   "cell_type": "markdown",
   "metadata": {},
   "source": [
    "# Anagram"
   ]
  },
  {
   "cell_type": "code",
   "execution_count": null,
   "metadata": {
    "collapsed": true
   },
   "outputs": [],
   "source": [
    "string1 = 'REST'\n",
    "string2 = 'TESR'"
   ]
  },
  {
   "cell_type": "code",
   "execution_count": null,
   "metadata": {},
   "outputs": [],
   "source": [
    "if len(string1) == len(string2) and sorted(string1)==sorted(string2):\n",
    "    print('Its Anagram')\n",
    "else:\n",
    "    print('Its not Anagram')"
   ]
  },
  {
   "cell_type": "markdown",
   "metadata": {},
   "source": [
    "# How to check the given number is Armstrong Number"
   ]
  },
  {
   "cell_type": "code",
   "execution_count": 24,
   "metadata": {
    "scrolled": false
   },
   "outputs": [
    {
     "name": "stdout",
     "output_type": "stream",
     "text": [
      "15\n",
      "27\n",
      "2\n",
      "152\n",
      "0\n",
      "160\n",
      "Its not\n"
     ]
    }
   ],
   "source": [
    "# Example : 153 == 1^3+5^3+3^3  == 1+125+27\n",
    "num = 153\n",
    "total = 0\n",
    "temp =num\n",
    "while num > 0:\n",
    "    r = num % 10\n",
    "    cube= r**3\n",
    "    total  = total+cube\n",
    "    #print('armstrong 1st value',armstrong,'check ',check)\n",
    "    #print(armstrong)\n",
    "    num = num /10\n",
    "    num = round(num)\n",
    "    print(num)\n",
    "    print(total)\n",
    "#print(armstrong)\n",
    "num = temp \n",
    "if num == total:\n",
    "    print('Its Armstrong number')\n",
    "else:\n",
    "    print('Its not')"
   ]
  },
  {
   "cell_type": "markdown",
   "metadata": {},
   "source": [
    "# PRIME Numbers Program"
   ]
  },
  {
   "cell_type": "code",
   "execution_count": 217,
   "metadata": {},
   "outputs": [
    {
     "name": "stdout",
     "output_type": "stream",
     "text": [
      "count 0\n",
      "n value 11\n",
      "i value 1\n",
      "count value is 1\n",
      "1\n",
      "count 1\n",
      "1\n",
      "count 1\n",
      "1\n",
      "count 1\n",
      "1\n",
      "count 1\n",
      "1\n",
      "count 1\n",
      "1\n",
      "count 1\n",
      "1\n",
      "count 1\n",
      "1\n",
      "count 1\n",
      "1\n",
      "count 1\n",
      "1\n",
      "Not Prime\n"
     ]
    }
   ],
   "source": [
    "# A number should have only two factors...... or other wise representation is.....the given number should be divided by one and itself only\n",
    "n =11\n",
    "count = 0\n",
    "    \n",
    "for i in range(1,11):\n",
    "        \n",
    "    print('count',count)\n",
    "    if(n %i == 0):\n",
    "        print ('n value', n)\n",
    "        print('i value',i)\n",
    "        count+=1\n",
    "        print('count value is',count)\n",
    "    else:\n",
    "        pass\n",
    "    print(count)\n",
    "if count == 2:\n",
    "    print('prime')\n",
    "else:\n",
    "    print('Not Prime')"
   ]
  },
  {
   "cell_type": "code",
   "execution_count": 214,
   "metadata": {},
   "outputs": [
    {
     "name": "stdout",
     "output_type": "stream",
     "text": [
      "count 0\n",
      "n value 11\n",
      "i value 1\n",
      "count value is 1\n",
      "count 1\n",
      "count 1\n",
      "count 1\n",
      "count 1\n",
      "1\n",
      "Not Prime\n"
     ]
    }
   ],
   "source": [
    "prime(11)"
   ]
  },
  {
   "cell_type": "code",
   "execution_count": 196,
   "metadata": {
    "collapsed": true
   },
   "outputs": [],
   "source": [
    " n = 11"
   ]
  },
  {
   "cell_type": "code",
   "execution_count": 197,
   "metadata": {},
   "outputs": [
    {
     "name": "stdout",
     "output_type": "stream",
     "text": [
      "1\n",
      "2\n",
      "3\n",
      "4\n",
      "5\n"
     ]
    }
   ],
   "source": [
    "for i in range(1,((n+1)//2)):\n",
    "    print(i)"
   ]
  }
 ],
 "metadata": {
  "kernelspec": {
   "display_name": "Python 3",
   "language": "python",
   "name": "python3"
  },
  "language_info": {
   "codemirror_mode": {
    "name": "ipython",
    "version": 3
   },
   "file_extension": ".py",
   "mimetype": "text/x-python",
   "name": "python",
   "nbconvert_exporter": "python",
   "pygments_lexer": "ipython3",
   "version": "3.6.1"
  }
 },
 "nbformat": 4,
 "nbformat_minor": 2
}
